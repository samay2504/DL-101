{
 "cells": [
  {
   "cell_type": "code",
   "execution_count": null,
   "id": "f1e290bd",
   "metadata": {},
   "outputs": [],
   "source": [
    "#%% 1. Environment Setup\n",
    "import torch\n",
    "import torch.nn as nn\n",
    "import torch.optim as optim\n",
    "from torch.utils.data import Dataset, DataLoader\n",
    "import numpy as np\n",
    "import pandas as pd\n",
    "from sklearn.preprocessing import LabelEncoder, StandardScaler\n",
    "from sklearn.model_selection import train_test_split, GridSearchCV\n",
    "from sklearn.svm import SVC\n",
    "from sklearn.metrics import confusion_matrix, ConfusionMatrixDisplay\n",
    "import matplotlib.pyplot as plt\n",
    "import seaborn as sns\n",
    "from tqdm import tqdm\n",
    "import warnings"
   ]
  },
  {
   "cell_type": "code",
   "execution_count": 5,
   "id": "20c6271a",
   "metadata": {},
   "outputs": [
    {
     "data": {
      "text/html": [
       "<div>\n",
       "<style scoped>\n",
       "    .dataframe tbody tr th:only-of-type {\n",
       "        vertical-align: middle;\n",
       "    }\n",
       "\n",
       "    .dataframe tbody tr th {\n",
       "        vertical-align: top;\n",
       "    }\n",
       "\n",
       "    .dataframe thead th {\n",
       "        text-align: right;\n",
       "    }\n",
       "</style>\n",
       "<table border=\"1\" class=\"dataframe\">\n",
       "  <thead>\n",
       "    <tr style=\"text-align: right;\">\n",
       "      <th></th>\n",
       "      <th>filename</th>\n",
       "      <th>length</th>\n",
       "      <th>chroma_stft_mean</th>\n",
       "      <th>chroma_stft_var</th>\n",
       "      <th>rms_mean</th>\n",
       "      <th>rms_var</th>\n",
       "      <th>spectral_centroid_mean</th>\n",
       "      <th>spectral_centroid_var</th>\n",
       "      <th>spectral_bandwidth_mean</th>\n",
       "      <th>spectral_bandwidth_var</th>\n",
       "      <th>...</th>\n",
       "      <th>mfcc9_var</th>\n",
       "      <th>mfcc10_mean</th>\n",
       "      <th>mfcc10_var</th>\n",
       "      <th>mfcc11_mean</th>\n",
       "      <th>mfcc11_var</th>\n",
       "      <th>mfcc12_mean</th>\n",
       "      <th>mfcc12_var</th>\n",
       "      <th>mfcc13_mean</th>\n",
       "      <th>mfcc13_var</th>\n",
       "      <th>label</th>\n",
       "    </tr>\n",
       "  </thead>\n",
       "  <tbody>\n",
       "    <tr>\n",
       "      <th>0</th>\n",
       "      <td>blues.00024.wav</td>\n",
       "      <td>661500</td>\n",
       "      <td>0.263108</td>\n",
       "      <td>0.099980</td>\n",
       "      <td>0.086962</td>\n",
       "      <td>0.002512</td>\n",
       "      <td>1120.390980</td>\n",
       "      <td>176408.836176</td>\n",
       "      <td>1447.852625</td>\n",
       "      <td>53821.613990</td>\n",
       "      <td>...</td>\n",
       "      <td>94.161580</td>\n",
       "      <td>-2.302590</td>\n",
       "      <td>68.893074</td>\n",
       "      <td>3.783148</td>\n",
       "      <td>76.785670</td>\n",
       "      <td>0.084823</td>\n",
       "      <td>73.574780</td>\n",
       "      <td>-0.939437</td>\n",
       "      <td>126.729645</td>\n",
       "      <td>blues</td>\n",
       "    </tr>\n",
       "    <tr>\n",
       "      <th>1</th>\n",
       "      <td>blues.00027.wav</td>\n",
       "      <td>661500</td>\n",
       "      <td>0.288705</td>\n",
       "      <td>0.094162</td>\n",
       "      <td>0.095725</td>\n",
       "      <td>0.002194</td>\n",
       "      <td>1391.443904</td>\n",
       "      <td>200153.143237</td>\n",
       "      <td>1494.850834</td>\n",
       "      <td>43500.503910</td>\n",
       "      <td>...</td>\n",
       "      <td>61.917267</td>\n",
       "      <td>-9.396027</td>\n",
       "      <td>85.992905</td>\n",
       "      <td>-2.562838</td>\n",
       "      <td>107.918915</td>\n",
       "      <td>-4.522896</td>\n",
       "      <td>59.029346</td>\n",
       "      <td>-0.262949</td>\n",
       "      <td>67.838790</td>\n",
       "      <td>blues</td>\n",
       "    </tr>\n",
       "    <tr>\n",
       "      <th>2</th>\n",
       "      <td>blues.00074.wav</td>\n",
       "      <td>661500</td>\n",
       "      <td>0.367174</td>\n",
       "      <td>0.085402</td>\n",
       "      <td>0.196903</td>\n",
       "      <td>0.004284</td>\n",
       "      <td>2515.869160</td>\n",
       "      <td>272550.358669</td>\n",
       "      <td>2531.420001</td>\n",
       "      <td>66559.812170</td>\n",
       "      <td>...</td>\n",
       "      <td>85.300290</td>\n",
       "      <td>12.328122</td>\n",
       "      <td>65.853590</td>\n",
       "      <td>-13.717032</td>\n",
       "      <td>65.636055</td>\n",
       "      <td>11.850821</td>\n",
       "      <td>70.903915</td>\n",
       "      <td>-3.982272</td>\n",
       "      <td>58.626965</td>\n",
       "      <td>blues</td>\n",
       "    </tr>\n",
       "    <tr>\n",
       "      <th>3</th>\n",
       "      <td>blues.00075.wav</td>\n",
       "      <td>661500</td>\n",
       "      <td>0.466458</td>\n",
       "      <td>0.081497</td>\n",
       "      <td>0.192030</td>\n",
       "      <td>0.008019</td>\n",
       "      <td>2225.176866</td>\n",
       "      <td>462553.522638</td>\n",
       "      <td>2255.135044</td>\n",
       "      <td>99000.271768</td>\n",
       "      <td>...</td>\n",
       "      <td>73.999756</td>\n",
       "      <td>15.339354</td>\n",
       "      <td>75.326546</td>\n",
       "      <td>-7.049362</td>\n",
       "      <td>83.158050</td>\n",
       "      <td>12.182225</td>\n",
       "      <td>61.919407</td>\n",
       "      <td>-6.110912</td>\n",
       "      <td>92.456580</td>\n",
       "      <td>blues</td>\n",
       "    </tr>\n",
       "    <tr>\n",
       "      <th>4</th>\n",
       "      <td>blues.00011.wav</td>\n",
       "      <td>661500</td>\n",
       "      <td>0.365807</td>\n",
       "      <td>0.102007</td>\n",
       "      <td>0.065685</td>\n",
       "      <td>0.002501</td>\n",
       "      <td>1353.329119</td>\n",
       "      <td>511903.711272</td>\n",
       "      <td>1757.331004</td>\n",
       "      <td>220219.000176</td>\n",
       "      <td>...</td>\n",
       "      <td>148.787000</td>\n",
       "      <td>6.566734</td>\n",
       "      <td>114.196280</td>\n",
       "      <td>-4.879438</td>\n",
       "      <td>93.832950</td>\n",
       "      <td>-3.180660</td>\n",
       "      <td>84.243774</td>\n",
       "      <td>-5.557003</td>\n",
       "      <td>65.379010</td>\n",
       "      <td>blues</td>\n",
       "    </tr>\n",
       "  </tbody>\n",
       "</table>\n",
       "<p>5 rows × 46 columns</p>\n",
       "</div>"
      ],
      "text/plain": [
       "          filename  length  chroma_stft_mean  chroma_stft_var  rms_mean  \\\n",
       "0  blues.00024.wav  661500          0.263108         0.099980  0.086962   \n",
       "1  blues.00027.wav  661500          0.288705         0.094162  0.095725   \n",
       "2  blues.00074.wav  661500          0.367174         0.085402  0.196903   \n",
       "3  blues.00075.wav  661500          0.466458         0.081497  0.192030   \n",
       "4  blues.00011.wav  661500          0.365807         0.102007  0.065685   \n",
       "\n",
       "    rms_var  spectral_centroid_mean  spectral_centroid_var  \\\n",
       "0  0.002512             1120.390980          176408.836176   \n",
       "1  0.002194             1391.443904          200153.143237   \n",
       "2  0.004284             2515.869160          272550.358669   \n",
       "3  0.008019             2225.176866          462553.522638   \n",
       "4  0.002501             1353.329119          511903.711272   \n",
       "\n",
       "   spectral_bandwidth_mean  spectral_bandwidth_var  ...   mfcc9_var  \\\n",
       "0              1447.852625            53821.613990  ...   94.161580   \n",
       "1              1494.850834            43500.503910  ...   61.917267   \n",
       "2              2531.420001            66559.812170  ...   85.300290   \n",
       "3              2255.135044            99000.271768  ...   73.999756   \n",
       "4              1757.331004           220219.000176  ...  148.787000   \n",
       "\n",
       "   mfcc10_mean  mfcc10_var  mfcc11_mean  mfcc11_var  mfcc12_mean  mfcc12_var  \\\n",
       "0    -2.302590   68.893074     3.783148   76.785670     0.084823   73.574780   \n",
       "1    -9.396027   85.992905    -2.562838  107.918915    -4.522896   59.029346   \n",
       "2    12.328122   65.853590   -13.717032   65.636055    11.850821   70.903915   \n",
       "3    15.339354   75.326546    -7.049362   83.158050    12.182225   61.919407   \n",
       "4     6.566734  114.196280    -4.879438   93.832950    -3.180660   84.243774   \n",
       "\n",
       "   mfcc13_mean  mfcc13_var  label  \n",
       "0    -0.939437  126.729645  blues  \n",
       "1    -0.262949   67.838790  blues  \n",
       "2    -3.982272   58.626965  blues  \n",
       "3    -6.110912   92.456580  blues  \n",
       "4    -5.557003   65.379010  blues  \n",
       "\n",
       "[5 rows x 46 columns]"
      ]
     },
     "execution_count": 5,
     "metadata": {},
     "output_type": "execute_result"
    }
   ],
   "source": [
    "df = pd.read_csv('D:/Projects/Deep Learning 101/gtzan_features.csv')\n",
    "df.head()"
   ]
  },
  {
   "cell_type": "code",
   "execution_count": 6,
   "id": "f77ea41a",
   "metadata": {},
   "outputs": [
    {
     "data": {
      "text/plain": [
       "(999, 46)"
      ]
     },
     "execution_count": 6,
     "metadata": {},
     "output_type": "execute_result"
    }
   ],
   "source": [
    "df.shape"
   ]
  },
  {
   "cell_type": "code",
   "execution_count": 7,
   "id": "c4255075",
   "metadata": {},
   "outputs": [
    {
     "data": {
      "text/plain": [
       "filename                    object\n",
       "length                       int64\n",
       "chroma_stft_mean           float64\n",
       "chroma_stft_var            float64\n",
       "rms_mean                   float64\n",
       "rms_var                    float64\n",
       "spectral_centroid_mean     float64\n",
       "spectral_centroid_var      float64\n",
       "spectral_bandwidth_mean    float64\n",
       "spectral_bandwidth_var     float64\n",
       "rolloff_mean               float64\n",
       "rolloff_var                float64\n",
       "zero_crossing_rate_mean    float64\n",
       "zero_crossing_rate_var     float64\n",
       "harmony_mean               float64\n",
       "harmony_var                float64\n",
       "perceptr_mean              float64\n",
       "perceptr_var               float64\n",
       "tempo                       object\n",
       "mfcc1_mean                 float64\n",
       "mfcc1_var                  float64\n",
       "mfcc2_mean                 float64\n",
       "mfcc2_var                  float64\n",
       "mfcc3_mean                 float64\n",
       "mfcc3_var                  float64\n",
       "mfcc4_mean                 float64\n",
       "mfcc4_var                  float64\n",
       "mfcc5_mean                 float64\n",
       "mfcc5_var                  float64\n",
       "mfcc6_mean                 float64\n",
       "mfcc6_var                  float64\n",
       "mfcc7_mean                 float64\n",
       "mfcc7_var                  float64\n",
       "mfcc8_mean                 float64\n",
       "mfcc8_var                  float64\n",
       "mfcc9_mean                 float64\n",
       "mfcc9_var                  float64\n",
       "mfcc10_mean                float64\n",
       "mfcc10_var                 float64\n",
       "mfcc11_mean                float64\n",
       "mfcc11_var                 float64\n",
       "mfcc12_mean                float64\n",
       "mfcc12_var                 float64\n",
       "mfcc13_mean                float64\n",
       "mfcc13_var                 float64\n",
       "label                       object\n",
       "dtype: object"
      ]
     },
     "execution_count": 7,
     "metadata": {},
     "output_type": "execute_result"
    }
   ],
   "source": [
    "df.dtypes"
   ]
  },
  {
   "cell_type": "code",
   "execution_count": 8,
   "id": "475566b0",
   "metadata": {},
   "outputs": [
    {
     "name": "stdout",
     "output_type": "stream",
     "text": [
      "            filename  length  chroma_stft_mean  chroma_stft_var  rms_mean  \\\n",
      "0    blues.00024.wav  661500          0.263108         0.099980  0.086962   \n",
      "1    blues.00027.wav  661500          0.288705         0.094162  0.095725   \n",
      "2    blues.00074.wav  661500          0.367174         0.085402  0.196903   \n",
      "3    blues.00075.wav  661500          0.466458         0.081497  0.192030   \n",
      "4    blues.00011.wav  661500          0.365807         0.102007  0.065685   \n",
      "..               ...     ...               ...              ...       ...   \n",
      "994    pop.00071.wav  661500          0.447408         0.092988  0.191373   \n",
      "995    pop.00062.wav  661500          0.329643         0.098448  0.397851   \n",
      "996    pop.00065.wav  661500          0.345651         0.097272  0.133485   \n",
      "997    pop.00058.wav  661500          0.339939         0.098331  0.167422   \n",
      "998    pop.00042.wav  661500          0.379730         0.090999  0.223442   \n",
      "\n",
      "      rms_var  spectral_centroid_mean  spectral_centroid_var  \\\n",
      "0    0.002512             1120.390980           1.764088e+05   \n",
      "1    0.002194             1391.443904           2.001531e+05   \n",
      "2    0.004284             2515.869160           2.725504e+05   \n",
      "3    0.008019             2225.176866           4.625535e+05   \n",
      "4    0.002501             1353.329119           5.119037e+05   \n",
      "..        ...                     ...                    ...   \n",
      "994  0.007818             3889.787117           1.050048e+06   \n",
      "995  0.007182             2468.498529           3.118369e+05   \n",
      "996  0.006078             2518.668012           5.778843e+05   \n",
      "997  0.006373             2940.000521           1.663406e+06   \n",
      "998  0.007203             3002.616982           7.944636e+05   \n",
      "\n",
      "     spectral_bandwidth_mean  spectral_bandwidth_var  ...  mfcc9_mean  \\\n",
      "0                1447.852625            53821.613990  ...   -0.577586   \n",
      "1                1494.850834            43500.503910  ...   -6.167004   \n",
      "2                2531.420001            66559.812170  ...  -18.428990   \n",
      "3                2255.135044            99000.271768  ...  -14.978637   \n",
      "4                1757.331004           220219.000176  ...    0.782800   \n",
      "..                       ...                     ...  ...         ...   \n",
      "994              3271.662762            98238.514562  ...   -0.447439   \n",
      "995              2625.151577           123605.174306  ...    2.750496   \n",
      "996              2683.946957           157808.786935  ...   -0.096169   \n",
      "997              2629.464154           298136.977231  ...   -0.309325   \n",
      "998              2972.782767           178918.904992  ...    2.545922   \n",
      "\n",
      "      mfcc9_var  mfcc10_mean  mfcc10_var  mfcc11_mean  mfcc11_var  \\\n",
      "0     94.161580    -2.302590   68.893074     3.783148   76.785670   \n",
      "1     61.917267    -9.396027   85.992905    -2.562838  107.918915   \n",
      "2     85.300290    12.328122   65.853590   -13.717032   65.636055   \n",
      "3     73.999756    15.339354   75.326546    -7.049362   83.158050   \n",
      "4    148.787000     6.566734  114.196280    -4.879438   93.832950   \n",
      "..          ...          ...         ...          ...         ...   \n",
      "994  105.651770     3.219610   99.162415    -3.928455   97.867004   \n",
      "995  153.639470    15.018393  196.918950    -8.786578  188.097800   \n",
      "996  119.436760     1.574603   91.929580    -5.793351   98.481705   \n",
      "997  107.938620    -0.049745  100.484830    -5.929299   85.367096   \n",
      "998   85.916350     4.750341  118.243300    -1.588868   52.147070   \n",
      "\n",
      "     mfcc12_mean  mfcc12_var mfcc13_mean  mfcc13_var  \n",
      "0       0.084823   73.574780   -0.939437  126.729645  \n",
      "1      -4.522896   59.029346   -0.262949   67.838790  \n",
      "2      11.850821   70.903915   -3.982272   58.626965  \n",
      "3      12.182225   61.919407   -6.110912   92.456580  \n",
      "4      -3.180660   84.243774   -5.557003   65.379010  \n",
      "..           ...         ...         ...         ...  \n",
      "994     1.593750   86.541560    0.290582   95.287760  \n",
      "995     0.795442  167.177280   -7.219668  168.140930  \n",
      "996    -5.087191   65.684730   -0.208028   76.162900  \n",
      "997    -4.269969   79.723400   -3.509702   72.672130  \n",
      "998     2.566466   54.045060   -1.017068   49.323060  \n",
      "\n",
      "[999 rows x 45 columns]\n"
     ]
    }
   ],
   "source": [
    "print(df.iloc[:, :-1])"
   ]
  },
  {
   "cell_type": "code",
   "execution_count": null,
   "id": "6516ef6c",
   "metadata": {},
   "outputs": [
    {
     "name": "stderr",
     "output_type": "stream",
     "text": [
      "Epoch 1: 100%|██████████| 19/19 [00:00<00:00, 57.30it/s]\n"
     ]
    },
    {
     "name": "stdout",
     "output_type": "stream",
     "text": [
      "Epoch 1: Loss: 2.0018, Val Acc: 0.4300\n"
     ]
    },
    {
     "name": "stderr",
     "output_type": "stream",
     "text": [
      "Epoch 2: 100%|██████████| 19/19 [00:00<00:00, 90.37it/s]\n"
     ]
    },
    {
     "name": "stdout",
     "output_type": "stream",
     "text": [
      "Epoch 2: Loss: 1.3954, Val Acc: 0.5600\n"
     ]
    },
    {
     "name": "stderr",
     "output_type": "stream",
     "text": [
      "Epoch 3: 100%|██████████| 19/19 [00:00<00:00, 97.68it/s] \n"
     ]
    },
    {
     "name": "stdout",
     "output_type": "stream",
     "text": [
      "Epoch 3: Loss: 1.0678, Val Acc: 0.5950\n"
     ]
    },
    {
     "name": "stderr",
     "output_type": "stream",
     "text": [
      "Epoch 4: 100%|██████████| 19/19 [00:00<00:00, 101.96it/s]\n"
     ]
    },
    {
     "name": "stdout",
     "output_type": "stream",
     "text": [
      "Epoch 4: Loss: 0.8620, Val Acc: 0.6050\n"
     ]
    },
    {
     "name": "stderr",
     "output_type": "stream",
     "text": [
      "Epoch 5: 100%|██████████| 19/19 [00:00<00:00, 92.51it/s]\n"
     ]
    },
    {
     "name": "stdout",
     "output_type": "stream",
     "text": [
      "Epoch 5: Loss: 0.7782, Val Acc: 0.5800\n"
     ]
    },
    {
     "name": "stderr",
     "output_type": "stream",
     "text": [
      "Epoch 6: 100%|██████████| 19/19 [00:00<00:00, 95.37it/s]\n"
     ]
    },
    {
     "name": "stdout",
     "output_type": "stream",
     "text": [
      "Epoch 6: Loss: 0.6694, Val Acc: 0.6400\n"
     ]
    },
    {
     "name": "stderr",
     "output_type": "stream",
     "text": [
      "Epoch 7: 100%|██████████| 19/19 [00:00<00:00, 100.68it/s]\n"
     ]
    },
    {
     "name": "stdout",
     "output_type": "stream",
     "text": [
      "Epoch 7: Loss: 0.5566, Val Acc: 0.6350\n"
     ]
    },
    {
     "name": "stderr",
     "output_type": "stream",
     "text": [
      "Epoch 8: 100%|██████████| 19/19 [00:00<00:00, 91.79it/s]\n"
     ]
    },
    {
     "name": "stdout",
     "output_type": "stream",
     "text": [
      "Epoch 8: Loss: 0.4666, Val Acc: 0.6550\n"
     ]
    },
    {
     "name": "stderr",
     "output_type": "stream",
     "text": [
      "Epoch 9: 100%|██████████| 19/19 [00:00<00:00, 105.36it/s]\n"
     ]
    },
    {
     "name": "stdout",
     "output_type": "stream",
     "text": [
      "Epoch 9: Loss: 0.4002, Val Acc: 0.6100\n"
     ]
    },
    {
     "name": "stderr",
     "output_type": "stream",
     "text": [
      "Epoch 10: 100%|██████████| 19/19 [00:00<00:00, 96.45it/s]\n"
     ]
    },
    {
     "name": "stdout",
     "output_type": "stream",
     "text": [
      "Epoch 10: Loss: 0.3245, Val Acc: 0.6500\n"
     ]
    },
    {
     "name": "stderr",
     "output_type": "stream",
     "text": [
      "Epoch 11: 100%|██████████| 19/19 [00:00<00:00, 90.37it/s]\n"
     ]
    },
    {
     "name": "stdout",
     "output_type": "stream",
     "text": [
      "Epoch 11: Loss: 0.2800, Val Acc: 0.6550\n"
     ]
    },
    {
     "name": "stderr",
     "output_type": "stream",
     "text": [
      "Epoch 12: 100%|██████████| 19/19 [00:00<00:00, 99.60it/s]\n"
     ]
    },
    {
     "name": "stdout",
     "output_type": "stream",
     "text": [
      "Epoch 12: Loss: 0.2342, Val Acc: 0.6900\n"
     ]
    },
    {
     "name": "stderr",
     "output_type": "stream",
     "text": [
      "Epoch 13: 100%|██████████| 19/19 [00:00<00:00, 107.86it/s]\n"
     ]
    },
    {
     "name": "stdout",
     "output_type": "stream",
     "text": [
      "Epoch 13: Loss: 0.1951, Val Acc: 0.6950\n"
     ]
    },
    {
     "name": "stderr",
     "output_type": "stream",
     "text": [
      "Epoch 14: 100%|██████████| 19/19 [00:00<00:00, 102.74it/s]\n"
     ]
    },
    {
     "name": "stdout",
     "output_type": "stream",
     "text": [
      "Epoch 14: Loss: 0.1621, Val Acc: 0.6950\n"
     ]
    },
    {
     "name": "stderr",
     "output_type": "stream",
     "text": [
      "Epoch 15: 100%|██████████| 19/19 [00:00<00:00, 101.16it/s]\n"
     ]
    },
    {
     "name": "stdout",
     "output_type": "stream",
     "text": [
      "Epoch 15: Loss: 0.1412, Val Acc: 0.6800\n"
     ]
    },
    {
     "name": "stderr",
     "output_type": "stream",
     "text": [
      "Epoch 16: 100%|██████████| 19/19 [00:00<00:00, 95.11it/s] \n"
     ]
    },
    {
     "name": "stdout",
     "output_type": "stream",
     "text": [
      "Epoch 16: Loss: 0.1128, Val Acc: 0.6850\n"
     ]
    },
    {
     "name": "stderr",
     "output_type": "stream",
     "text": [
      "Epoch 17: 100%|██████████| 19/19 [00:00<00:00, 92.50it/s]\n"
     ]
    },
    {
     "name": "stdout",
     "output_type": "stream",
     "text": [
      "Epoch 17: Loss: 0.1016, Val Acc: 0.6700\n"
     ]
    },
    {
     "name": "stderr",
     "output_type": "stream",
     "text": [
      "Epoch 18: 100%|██████████| 19/19 [00:00<00:00, 98.85it/s]\n"
     ]
    },
    {
     "name": "stdout",
     "output_type": "stream",
     "text": [
      "Epoch 18: Loss: 0.0859, Val Acc: 0.6650\n"
     ]
    },
    {
     "name": "stderr",
     "output_type": "stream",
     "text": [
      "Epoch 19: 100%|██████████| 19/19 [00:00<00:00, 97.67it/s]\n"
     ]
    },
    {
     "name": "stdout",
     "output_type": "stream",
     "text": [
      "Epoch 19: Loss: 0.0718, Val Acc: 0.6850\n"
     ]
    },
    {
     "name": "stderr",
     "output_type": "stream",
     "text": [
      "Epoch 20: 100%|██████████| 19/19 [00:00<00:00, 94.23it/s]\n"
     ]
    },
    {
     "name": "stdout",
     "output_type": "stream",
     "text": [
      "Epoch 20: Loss: 0.0569, Val Acc: 0.6850\n"
     ]
    },
    {
     "name": "stderr",
     "output_type": "stream",
     "text": [
      "Epoch 21: 100%|██████████| 19/19 [00:00<00:00, 93.78it/s]\n"
     ]
    },
    {
     "name": "stdout",
     "output_type": "stream",
     "text": [
      "Epoch 21: Loss: 0.0606, Val Acc: 0.6900\n"
     ]
    },
    {
     "name": "stderr",
     "output_type": "stream",
     "text": [
      "Epoch 22: 100%|██████████| 19/19 [00:00<00:00, 94.86it/s]\n"
     ]
    },
    {
     "name": "stdout",
     "output_type": "stream",
     "text": [
      "Epoch 22: Loss: 0.0638, Val Acc: 0.6900\n"
     ]
    },
    {
     "name": "stderr",
     "output_type": "stream",
     "text": [
      "Epoch 23: 100%|██████████| 19/19 [00:00<00:00, 97.74it/s]\n"
     ]
    },
    {
     "name": "stdout",
     "output_type": "stream",
     "text": [
      "Epoch 23: Loss: 0.0560, Val Acc: 0.6850\n"
     ]
    },
    {
     "name": "stderr",
     "output_type": "stream",
     "text": [
      "Epoch 24: 100%|██████████| 19/19 [00:00<00:00, 100.68it/s]\n"
     ]
    },
    {
     "name": "stdout",
     "output_type": "stream",
     "text": [
      "Epoch 24: Loss: 0.0602, Val Acc: 0.6850\n"
     ]
    },
    {
     "name": "stderr",
     "output_type": "stream",
     "text": [
      "Epoch 25: 100%|██████████| 19/19 [00:00<00:00, 99.60it/s]\n"
     ]
    },
    {
     "name": "stdout",
     "output_type": "stream",
     "text": [
      "Epoch 25: Loss: 0.0554, Val Acc: 0.6850\n"
     ]
    },
    {
     "name": "stderr",
     "output_type": "stream",
     "text": [
      "Epoch 26: 100%|██████████| 19/19 [00:00<00:00, 100.83it/s]\n"
     ]
    },
    {
     "name": "stdout",
     "output_type": "stream",
     "text": [
      "Epoch 26: Loss: 0.0591, Val Acc: 0.6850\n"
     ]
    },
    {
     "name": "stderr",
     "output_type": "stream",
     "text": [
      "Epoch 27: 100%|██████████| 19/19 [00:00<00:00, 100.03it/s]\n"
     ]
    },
    {
     "name": "stdout",
     "output_type": "stream",
     "text": [
      "Epoch 27: Loss: 0.0559, Val Acc: 0.6850\n"
     ]
    },
    {
     "name": "stderr",
     "output_type": "stream",
     "text": [
      "Epoch 28: 100%|██████████| 19/19 [00:00<00:00, 98.31it/s]\n"
     ]
    },
    {
     "name": "stdout",
     "output_type": "stream",
     "text": [
      "Epoch 28: Loss: 0.0580, Val Acc: 0.6850\n"
     ]
    },
    {
     "name": "stderr",
     "output_type": "stream",
     "text": [
      "Epoch 29: 100%|██████████| 19/19 [00:00<00:00, 92.47it/s]\n"
     ]
    },
    {
     "name": "stdout",
     "output_type": "stream",
     "text": [
      "Epoch 29: Loss: 0.0533, Val Acc: 0.6850\n"
     ]
    },
    {
     "name": "stderr",
     "output_type": "stream",
     "text": [
      "Epoch 30: 100%|██████████| 19/19 [00:00<00:00, 102.84it/s]\n"
     ]
    },
    {
     "name": "stdout",
     "output_type": "stream",
     "text": [
      "Epoch 30: Loss: 0.0565, Val Acc: 0.6850\n",
      "Best SVM: {'C': 10, 'gamma': 'scale', 'kernel': 'rbf'} (Acc: 74.13%)\n",
      "Test Acc: 72.00%\n"
     ]
    },
    {
     "data": {
      "image/png": "[encoded data removed]",
      "text/plain": [
       "<Figure size 1200x1000 with 2 Axes>"
      ]
     },
     "metadata": {},
     "output_type": "display_data"
    },
    {
     "data": {
      "image/png": "[encoded data removed]",
      "text/plain": [
       "<Figure size 1000x600 with 1 Axes>"
      ]
     },
     "metadata": {},
     "output_type": "display_data"
    }
   ],
   "source": [
    "warnings.filterwarnings(\"ignore\")\n",
    "device = torch.device(\"cuda\" if torch.cuda.is_available() else \"cpu\")\n",
    "\n",
    "#%% 2. Data Preparation\n",
    "class AudioDataset(Dataset):\n",
    "    def __init__(self, features, labels, filenames):\n",
    "        self.features = features\n",
    "        self.labels = labels\n",
    "        self.filenames = filenames\n",
    "        \n",
    "    def __len__(self): return len(self.labels)\n",
    "    \n",
    "    def __getitem__(self, idx):\n",
    "        return (self.features[idx], self.labels[idx], self.filenames[idx])\n",
    "\n",
    "# Load and preprocess data\n",
    "df = pd.read_csv('gtzan_features.csv')\n",
    "df['tempo'] = df['tempo'].str.strip('[]').astype(float)\n",
    "genres = ['blues', 'classical', 'country', 'rock', 'disco', 'reggae', 'hiphop', 'jazz', 'metal', 'pop']\n",
    "\n",
    "le = LabelEncoder()\n",
    "le.fit(genres)\n",
    "df['label'] = le.transform(df['label'])\n",
    "\n",
    "# Split data\n",
    "X = df.drop(['label', 'filename'], axis=1)\n",
    "y = df['label']\n",
    "filenames = df['filename']\n",
    "\n",
    "X_train_val, X_test, y_train_val, y_test, fn_train_val, fn_test = train_test_split(\n",
    "    X, y, filenames, test_size=0.2, stratify=y, random_state=42)\n",
    "X_train, X_val, y_train, y_val, fn_train, fn_val = train_test_split(\n",
    "    X_train_val, y_train_val, fn_train_val, test_size=0.25, stratify=y_train_val, random_state=42)\n",
    "\n",
    "# Scale features\n",
    "scaler = StandardScaler()\n",
    "X_train = scaler.fit_transform(X_train)\n",
    "X_val = scaler.transform(X_val)\n",
    "X_test = scaler.transform(X_test)\n",
    "\n",
    "# Create datasets\n",
    "def create_dataloader(features, labels, filenames, batch_size=32, shuffle=False):\n",
    "    features = torch.tensor(features, dtype=torch.float32)\n",
    "    labels = torch.tensor(labels.values, dtype=torch.long)\n",
    "    dataset = AudioDataset(features, labels, filenames.values)\n",
    "    return DataLoader(dataset, batch_size=batch_size, shuffle=shuffle)\n",
    "\n",
    "train_loader = create_dataloader(X_train, y_train, fn_train, shuffle=True)\n",
    "val_loader = create_dataloader(X_val, y_val, fn_val)\n",
    "test_loader = create_dataloader(X_test, y_test, fn_test)\n",
    "\n",
    "#%% 3. TabTransformer Model\n",
    "class TabTransformer(nn.Module):\n",
    "    def __init__(self, num_features, num_classes, embed_dim=32, num_heads=4, \n",
    "                 ff_dim=128, num_layers=3, dropout=0.1):\n",
    "        super().__init__()\n",
    "        self.embedding = nn.Linear(1, embed_dim)\n",
    "        self.pos_embedding = nn.Parameter(torch.randn(1, num_features, embed_dim))\n",
    "        \n",
    "        encoder_layer = nn.TransformerEncoderLayer(\n",
    "            d_model=embed_dim, nhead=num_heads, dim_feedforward=ff_dim,\n",
    "            dropout=dropout, activation='gelu', batch_first=True)\n",
    "        self.transformer = nn.TransformerEncoder(encoder_layer, num_layers)\n",
    "        \n",
    "        self.mlp = nn.Sequential(\n",
    "            nn.Linear(embed_dim * num_features, ff_dim),\n",
    "            nn.ReLU(),\n",
    "            nn.Dropout(dropout),\n",
    "            nn.Linear(ff_dim, num_classes)\n",
    "        )\n",
    "        \n",
    "    def forward(self, x, return_embeddings=False):\n",
    "        x = x.unsqueeze(-1)\n",
    "        x = self.embedding(x) + self.pos_embedding\n",
    "        x = self.transformer(x)\n",
    "        embeddings = x.view(x.size(0), -1)\n",
    "        return self.mlp(embeddings) if not return_embeddings else embeddings\n",
    "\n",
    "model = TabTransformer(\n",
    "    num_features=X_train.shape[1],\n",
    "    num_classes=len(genres)\n",
    ").to(device)\n",
    "\n",
    "#%% 4. Training Functionality\n",
    "def train_model(model, train_loader, val_loader, epochs=30):\n",
    "    criterion = nn.CrossEntropyLoss()\n",
    "    optimizer = optim.AdamW(model.parameters(), lr=1e-3, weight_decay=1e-4)\n",
    "    scheduler = optim.lr_scheduler.ReduceLROnPlateau(optimizer, 'max', patience=3)\n",
    "    best_acc = 0.0\n",
    "\n",
    "    for epoch in range(epochs):\n",
    "        model.train()\n",
    "        train_loss = 0\n",
    "        for X_batch, y_batch, _ in tqdm(train_loader, desc=f\"Epoch {epoch+1}\"):\n",
    "            X_batch, y_batch = X_batch.to(device), y_batch.to(device)\n",
    "            optimizer.zero_grad()\n",
    "            outputs = model(X_batch)\n",
    "            loss = criterion(outputs, y_batch)\n",
    "            loss.backward()\n",
    "            optimizer.step()\n",
    "            train_loss += loss.item()\n",
    "\n",
    "        # Validation\n",
    "        model.eval()\n",
    "        correct = 0\n",
    "        total = 0\n",
    "        with torch.no_grad():\n",
    "            for X_val, y_val, _ in val_loader:\n",
    "                X_val, y_val = X_val.to(device), y_val.to(device)\n",
    "                outputs = model(X_val)\n",
    "                _, predicted = torch.max(outputs.data, 1)\n",
    "                total += y_val.size(0)\n",
    "                correct += (predicted == y_val).sum().item()\n",
    "        \n",
    "        val_acc = correct / total\n",
    "        scheduler.step(val_acc)\n",
    "        \n",
    "        if val_acc > best_acc:\n",
    "            best_acc = val_acc\n",
    "            torch.save(model.state_dict(), 'best_model.pth')\n",
    "        \n",
    "        print(f\"Epoch {epoch+1}: Loss: {train_loss/len(train_loader):.4f}, Val Acc: {val_acc:.4f}\")\n",
    "\n",
    "train_model(model, train_loader, val_loader)\n",
    "\n",
    "#%% 5. Embedding Extraction & SVM\n",
    "def extract_embeddings(model, loader):\n",
    "    model.eval()\n",
    "    embeddings, labels, filenames = [], [], []\n",
    "    with torch.no_grad():\n",
    "        for X_batch, y_batch, fn_batch in loader:\n",
    "            X_batch = X_batch.to(device)\n",
    "            emb = model(X_batch, return_embeddings=True)\n",
    "            embeddings.append(emb.cpu())\n",
    "            labels.append(y_batch)\n",
    "            filenames.extend(fn_batch)\n",
    "    return torch.cat(embeddings).numpy(), torch.cat(labels).numpy(), filenames\n",
    "\n",
    "X_train_emb, y_train_emb, fn_train = extract_embeddings(model, train_loader)\n",
    "X_test_emb, y_test_emb, fn_test = extract_embeddings(model, test_loader)\n",
    "\n",
    "# Automated Kernel Selection\n",
    "param_grid = {\n",
    "    'kernel': ['linear', 'rbf', 'sigmoid', 'cosine'],\n",
    "    'C': [0.1, 1, 10],\n",
    "    'gamma': ['scale', 'auto']\n",
    "}\n",
    "\n",
    "svm = SVC()\n",
    "clf = GridSearchCV(svm, param_grid, cv=5, n_jobs=-1)\n",
    "clf.fit(X_train_emb, y_train_emb)\n",
    "\n",
    "print(f\"Best SVM: {clf.best_params_} (Acc: {clf.best_score_:.2%})\")\n",
    "print(f\"Test Acc: {clf.score(X_test_emb, y_test_emb):.2%}\")\n",
    "\n",
    "#%% 6. Visualization\n",
    "def plot_results(y_true, y_pred, labels):\n",
    "    cm = confusion_matrix(y_true, y_pred)\n",
    "    disp = ConfusionMatrixDisplay(cm, display_labels=labels)\n",
    "    fig, ax = plt.subplots(figsize=(12, 10))\n",
    "    disp.plot(ax=ax, xticks_rotation=45, cmap='Blues')\n",
    "    plt.title(\"Genre Classification Confusion Matrix\")\n",
    "    plt.show()\n",
    "\n",
    "plot_results(y_test_emb, clf.predict(X_test_emb), genres)\n",
    "\n",
    "# Kernel Comparison\n",
    "results = pd.DataFrame(clf.cv_results_)\n",
    "plt.figure(figsize=(10, 6))\n",
    "sns.boxplot(x='param_kernel', y='mean_test_score', data=results)\n",
    "plt.title(\"Kernel Performance Comparison\")\n",
    "plt.ylabel(\"Accuracy\")\n",
    "plt.xlabel(\"Kernel Type\")\n",
    "plt.show()"
   ]
  }
 ],
 "metadata": {
  "kernelspec": {
   "display_name": "gpu",
   "language": "python",
   "name": "python3"
  },
  "language_info": {
   "codemirror_mode": {
    "name": "ipython",
    "version": 3
   },
   "file_extension": ".py",
   "mimetype": "text/x-python",
   "name": "python",
   "nbconvert_exporter": "python",
   "pygments_lexer": "ipython3",
   "version": "3.12.9"
  }
 },
 "nbformat": 4,
 "nbformat_minor": 5
}
